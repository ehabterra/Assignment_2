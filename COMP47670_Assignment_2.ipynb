{
 "cells": [
  {
   "cell_type": "markdown",
   "metadata": {},
   "source": [
    "# Import required packages"
   ]
  },
  {
   "cell_type": "code",
   "execution_count": 344,
   "metadata": {},
   "outputs": [],
   "source": [
    "from urllib import request, parse\n",
    "\n",
    "import bs4\n",
    "\n",
    "import pandas as pd\n",
    "\n",
    "# import nltk\n",
    "\n",
    "from sklearn.feature_extraction.text import TfidfVectorizer\n",
    "from sklearn.model_selection import train_test_split\n",
    "from sklearn.naive_bayes import ComplementNB\n",
    "from sklearn.metrics import accuracy_score\n",
    "\n",
    "from gensim.parsing.preprocessing import preprocess_documents\n",
    "from gensim.models import TfidfModel\n",
    "from gensim.corpora import Dictionary\n",
    "\n",
    "import matplotlib.pyplot as plt\n",
    "%matplotlib inline\n"
   ]
  },
  {
   "cell_type": "markdown",
   "metadata": {},
   "source": [
    "# Define needed functions for scraping"
   ]
  },
  {
   "cell_type": "code",
   "execution_count": 8,
   "metadata": {},
   "outputs": [],
   "source": [
    "# To get links\n",
    "def getHtmlParser(link):\n",
    "    response = request.urlopen(link)\n",
    "    html = response.read().decode()\n",
    "    parser = bs4.BeautifulSoup(html,\"html.parser\")\n",
    "    return parser"
   ]
  },
  {
   "cell_type": "code",
   "execution_count": 9,
   "metadata": {},
   "outputs": [],
   "source": [
    "def getSelector(parser, selector):\n",
    "    result = parser.select(selector)\n",
    "    return result"
   ]
  },
  {
   "cell_type": "code",
   "execution_count": 29,
   "metadata": {},
   "outputs": [],
   "source": [
    "def getLinks(link, selector):\n",
    "    links = []\n",
    "    parser = getHtmlParser(link)\n",
    "    anchors = getSelector(parser, selector)\n",
    "    for a in anchors:\n",
    "        a_href = (a['href'])\n",
    "        links.append(a_href)\n",
    "    return links"
   ]
  },
  {
   "cell_type": "markdown",
   "metadata": {},
   "source": [
    "# Scrape the main page to get categories link"
   ]
  },
  {
   "cell_type": "code",
   "execution_count": 346,
   "metadata": {},
   "outputs": [
    {
     "name": "stdout",
     "output_type": "stream",
     "text": [
      "Categories url: ['automotive_list.html', 'cafes_list.html', 'fashion_list.html', 'gym_list.html', 'hair_salons_list.html', 'hotels_list.html', 'restaurants_list.html']\n"
     ]
    }
   ],
   "source": [
    "mainPage = \"http://mlg.ucd.ie/modules/yalp/\"\n",
    "\n",
    "categories = getLinks(mainPage, 'div.category a[href]')\n",
    "print(\"Categories url:\", categories)"
   ]
  },
  {
   "cell_type": "markdown",
   "metadata": {},
   "source": [
    "# Get categories reviews and store to json files"
   ]
  },
  {
   "cell_type": "code",
   "execution_count": 75,
   "metadata": {},
   "outputs": [
    {
     "name": "stdout",
     "output_type": "stream",
     "text": [
      "automotive_list.html\n",
      "2000\n",
      "cafes_list.html\n",
      "2000\n",
      "fashion_list.html\n",
      "2000\n"
     ]
    }
   ],
   "source": [
    "for category in categories[:3]:    \n",
    "    reviewTexts = []\n",
    "    reviewRates = []\n",
    "    category_json = category.replace('.html', '.json')\n",
    "    reviewUrl = parse.urljoin(mainPage, category)\n",
    "    reviewPages = getLinks(reviewUrl, 'h5 a[href]')\n",
    "    \n",
    "    # Visit all category sub-links to get reviews\n",
    "    for page in reviewPages:\n",
    "#         print(\"..\", page)\n",
    "        parser = getHtmlParser(parse.urljoin(mainPage, page))\n",
    "        reviews = parser.select(\"div.review\")\n",
    "\n",
    "        for review in reviews:\n",
    "            reviewText = review.find('p', {'class': 'review-text'}).get_text()\n",
    "            reviewTexts.append(reviewText)\n",
    "            \n",
    "            img = review.select('p.rating img[src]')[0]\n",
    "            reviewRates.append(img['src'])\n",
    "    \n",
    "    # Show the number of reviews\n",
    "    print(category, len(reviewTexts))\n",
    "    \n",
    "    # Put category reviews in dataframe\n",
    "    df = pd.DataFrame(data = {'text': reviewTexts, 'rating': reviewRates })\n",
    "    \n",
    "    # Convert rating url to integer\n",
    "    df['rating'] = df['rating'].str.extract('(\\d)').astype('int8')\n",
    "    \n",
    "    # Create positive/negative classes from rating\n",
    "    df['positive_review'] = df['rating'] > 3\n",
    "    \n",
    "    # Save dataframe\n",
    "    df.to_json(category)"
   ]
  },
  {
   "cell_type": "markdown",
   "metadata": {},
   "source": [
    "# Retreive categories reviews"
   ]
  },
  {
   "cell_type": "code",
   "execution_count": 78,
   "metadata": {},
   "outputs": [],
   "source": [
    "categories_json = [c.replace('.html', '.json') for c in categories]\n",
    "\n",
    "df_A = pd.read_json(categories_json[0])\n",
    "df_B = pd.read_json(categories_json[1])\n",
    "df_C = pd.read_json(categories_json[2])"
   ]
  },
  {
   "cell_type": "code",
   "execution_count": 79,
   "metadata": {},
   "outputs": [
    {
     "name": "stdout",
     "output_type": "stream",
     "text": [
      "(2000, 3)\n",
      "(2000, 3)\n",
      "(2000, 3)\n"
     ]
    }
   ],
   "source": [
    "print(df_A.shape)\n",
    "print(df_B.shape)\n",
    "print(df_C.shape)"
   ]
  },
  {
   "cell_type": "code",
   "execution_count": 122,
   "metadata": {},
   "outputs": [
    {
     "data": {
      "text/html": [
       "<div>\n",
       "<style scoped>\n",
       "    .dataframe tbody tr th:only-of-type {\n",
       "        vertical-align: middle;\n",
       "    }\n",
       "\n",
       "    .dataframe tbody tr th {\n",
       "        vertical-align: top;\n",
       "    }\n",
       "\n",
       "    .dataframe thead th {\n",
       "        text-align: right;\n",
       "    }\n",
       "</style>\n",
       "<table border=\"1\" class=\"dataframe\">\n",
       "  <thead>\n",
       "    <tr style=\"text-align: right;\">\n",
       "      <th></th>\n",
       "      <th>text</th>\n",
       "      <th>rating</th>\n",
       "      <th>positive_review</th>\n",
       "    </tr>\n",
       "  </thead>\n",
       "  <tbody>\n",
       "    <tr>\n",
       "      <th>0</th>\n",
       "      <td>The man that was working tonight (8-12-17) was...</td>\n",
       "      <td>1</td>\n",
       "      <td>False</td>\n",
       "    </tr>\n",
       "    <tr>\n",
       "      <th>1</th>\n",
       "      <td>Chris is a very rude person. Gave me an attitu...</td>\n",
       "      <td>1</td>\n",
       "      <td>False</td>\n",
       "    </tr>\n",
       "    <tr>\n",
       "      <th>2</th>\n",
       "      <td>One of my favorite gas station to stop at. The...</td>\n",
       "      <td>5</td>\n",
       "      <td>True</td>\n",
       "    </tr>\n",
       "    <tr>\n",
       "      <th>3</th>\n",
       "      <td>Oh thank Heaven for Seven Eleven! I don't know...</td>\n",
       "      <td>3</td>\n",
       "      <td>False</td>\n",
       "    </tr>\n",
       "    <tr>\n",
       "      <th>4</th>\n",
       "      <td>Five stars because of the guy who works weekda...</td>\n",
       "      <td>5</td>\n",
       "      <td>True</td>\n",
       "    </tr>\n",
       "    <tr>\n",
       "      <th>5</th>\n",
       "      <td>I had the best experience here!!!!!! All the e...</td>\n",
       "      <td>5</td>\n",
       "      <td>True</td>\n",
       "    </tr>\n",
       "    <tr>\n",
       "      <th>6</th>\n",
       "      <td>My objective with this shop was to find a good...</td>\n",
       "      <td>1</td>\n",
       "      <td>False</td>\n",
       "    </tr>\n",
       "    <tr>\n",
       "      <th>7</th>\n",
       "      <td>Absolute worst service ever. Went in for oil c...</td>\n",
       "      <td>1</td>\n",
       "      <td>False</td>\n",
       "    </tr>\n",
       "    <tr>\n",
       "      <th>8</th>\n",
       "      <td>Love love love their customer service. I come ...</td>\n",
       "      <td>5</td>\n",
       "      <td>True</td>\n",
       "    </tr>\n",
       "    <tr>\n",
       "      <th>9</th>\n",
       "      <td>I took my friend to this shop to get her oil c...</td>\n",
       "      <td>1</td>\n",
       "      <td>False</td>\n",
       "    </tr>\n",
       "  </tbody>\n",
       "</table>\n",
       "</div>"
      ],
      "text/plain": [
       "                                                text  rating  positive_review\n",
       "0  The man that was working tonight (8-12-17) was...       1            False\n",
       "1  Chris is a very rude person. Gave me an attitu...       1            False\n",
       "2  One of my favorite gas station to stop at. The...       5             True\n",
       "3  Oh thank Heaven for Seven Eleven! I don't know...       3            False\n",
       "4  Five stars because of the guy who works weekda...       5             True\n",
       "5  I had the best experience here!!!!!! All the e...       5             True\n",
       "6  My objective with this shop was to find a good...       1            False\n",
       "7  Absolute worst service ever. Went in for oil c...       1            False\n",
       "8  Love love love their customer service. I come ...       5             True\n",
       "9  I took my friend to this shop to get her oil c...       1            False"
      ]
     },
     "execution_count": 122,
     "metadata": {},
     "output_type": "execute_result"
    }
   ],
   "source": [
    "df_A.head(10)"
   ]
  },
  {
   "cell_type": "markdown",
   "metadata": {},
   "source": [
    "# Preprocessing"
   ]
  },
  {
   "cell_type": "code",
   "execution_count": 417,
   "metadata": {},
   "outputs": [],
   "source": [
    "def prepross_data(df_text):\n",
    "    dataset = preprocess_documents(df_text)\n",
    "    \n",
    "    dct = Dictionary(dataset)  # fit dictionary\n",
    "    corpus = [dct.doc2bow(line) for line in dataset]  # convert corpus to BoW format\n",
    "    model = TfidfModel(corpus)\n",
    "\n",
    "    # To retrieve the same pd.DataFrame format.\n",
    "    documents_tfidf_lol = [{dct[word_idx]:tfidf_value for word_idx, tfidf_value in sent} for sent in model[corpus]]\n",
    "    documents_tfidf = pd.DataFrame(documents_tfidf_lol)\n",
    "    documents_tfidf = documents_tfidf.fillna(0.0)\n",
    "    \n",
    "    return (documents_tfidf, dct, model, dataset)"
   ]
  },
  {
   "cell_type": "code",
   "execution_count": 422,
   "metadata": {},
   "outputs": [],
   "source": [
    "tfidf_A, dct_A, tfidf_model_A, dataset_A = prepross_data(df_A['text'])\n",
    "tfidf_B, dct_B, tfidf_model_B, dataset_B = prepross_data(df_B['text'])\n",
    "tfidf_C, dct_C, tfidf_model_C, dataset_C = prepross_data(df_C['text'])"
   ]
  },
  {
   "cell_type": "markdown",
   "metadata": {},
   "source": [
    "# Classification\n",
    "- divide to (80% / 20%) for train and test data sets respectively \n",
    "- training \n",
    "- predict \n",
    "- evaluate "
   ]
  },
  {
   "cell_type": "code",
   "execution_count": 419,
   "metadata": {},
   "outputs": [],
   "source": [
    "def classify(tfidf, y):\n",
    "    # divide to (80% / 20%) for train and test data sets respectively  \n",
    "    X_train, X_test, y_train, y_test = train_test_split(tfidf, y\n",
    "                                                        , test_size=0.2, random_state = 42)\n",
    "    # training\n",
    "    clf = ComplementNB().fit(X_train, y_train)\n",
    "\n",
    "    # predict\n",
    "    predicted = clf.predict(X_test)\n",
    "\n",
    "    # evaluate\n",
    "    return (clf, accuracy_score(y_test, predicted))"
   ]
  },
  {
   "cell_type": "code",
   "execution_count": 420,
   "metadata": {},
   "outputs": [],
   "source": [
    "model_A, acc_A = classify(tfidf_A, df_A['positive_review'])\n",
    "model_B, acc_B = classify(tfidf_B, df_B['positive_review'])\n",
    "model_C, acc_C = classify(tfidf_C, df_C['positive_review'])"
   ]
  },
  {
   "cell_type": "code",
   "execution_count": 421,
   "metadata": {},
   "outputs": [
    {
     "name": "stdout",
     "output_type": "stream",
     "text": [
      "Accuracies:\n",
      "Category A: 0.92\n",
      "Category B: 0.825\n",
      "Category C: 0.8525\n"
     ]
    }
   ],
   "source": [
    "print(\"Accuracies:\")\n",
    "print(\"Category A:\", acc_A)\n",
    "print(\"Category B:\", acc_B)\n",
    "print(\"Category C:\", acc_C)"
   ]
  },
  {
   "cell_type": "code",
   "execution_count": 442,
   "metadata": {},
   "outputs": [],
   "source": [
    "def transform_data(dataset, dct, model):\n",
    "    \n",
    "    corpus = [dct.doc2bow(line) for line in dataset]  # convert corpus to BoW format\n",
    "\n",
    "    # To retrieve the same pd.DataFrame format.\n",
    "    documents_tfidf_lol = [{dct[word_idx]:tfidf_value for word_idx, tfidf_value in sent} for sent in model[corpus]]\n",
    "    documents_tfidf = pd.DataFrame(documents_tfidf_lol)\n",
    "    documents_tfidf = documents_tfidf.fillna(0.0)\n",
    "    \n",
    "    return documents_tfidf"
   ]
  },
  {
   "cell_type": "code",
   "execution_count": 443,
   "metadata": {},
   "outputs": [],
   "source": [
    "\n",
    "# to transform other datasets\n",
    "# ---------------------------\n",
    "# X_new_counts = count_vect.transform(X_test)\n",
    "# X_new_tfidf = tfidf_transformer.transform(X_new_counts)\n",
    "\n"
   ]
  },
  {
   "cell_type": "code",
   "execution_count": 472,
   "metadata": {},
   "outputs": [],
   "source": [
    "def predict(tfidf_1, tfidf_23, model_1, reviews_2, reviews_3):\n",
    "    tfidf_23 = pd.concat([tfidf_1[:0], tfidf_23], ignore_index=True)\n",
    "    tfidf_23 = tfidf_23.fillna(0.0)\n",
    "\n",
    "    # predict\n",
    "    predicted = model_1.predict(tfidf_23)\n",
    "\n",
    "    y = reviews_2.append(reviews_3)\n",
    "\n",
    "    return accuracy_score(y, predicted)"
   ]
  },
  {
   "cell_type": "code",
   "execution_count": 473,
   "metadata": {},
   "outputs": [
    {
     "name": "stdout",
     "output_type": "stream",
     "text": [
      "0.8425\n"
     ]
    }
   ],
   "source": [
    "tfidf_BC = transform_data(dataset_B + dataset_C, dct_A, tfidf_model_A)\n",
    "print(predict(tfidf_A, tfidf_BC, model_A, df_B['positive_review'], df_C['positive_review']))"
   ]
  },
  {
   "cell_type": "code",
   "execution_count": 475,
   "metadata": {},
   "outputs": [
    {
     "name": "stdout",
     "output_type": "stream",
     "text": [
      "0.822\n"
     ]
    }
   ],
   "source": [
    "tfidf_AC = transform_data(dataset_A + dataset_C, dct_B, tfidf_model_B)\n",
    "print(predict(tfidf_B, tfidf_AC, model_B, df_A['positive_review'], df_C['positive_review']))"
   ]
  },
  {
   "cell_type": "code",
   "execution_count": 476,
   "metadata": {},
   "outputs": [
    {
     "name": "stdout",
     "output_type": "stream",
     "text": [
      "0.857\n"
     ]
    }
   ],
   "source": [
    "tfidf_BA = transform_data(dataset_B + dataset_A, dct_C, tfidf_model_C)\n",
    "print(predict(tfidf_C, tfidf_BA, model_C, df_B['positive_review'], df_A['positive_review']))"
   ]
  },
  {
   "cell_type": "code",
   "execution_count": 491,
   "metadata": {},
   "outputs": [
    {
     "name": "stdout",
     "output_type": "stream",
     "text": [
      "Top negative features: car, tire, oil, told, said, chang, ask, time, dai, servic\n",
      "\n",
      "Top positive features: great, car, servic, work, help, friendli, recommend, need, gui, price\n"
     ]
    }
   ],
   "source": [
    "# most frequent features\n",
    "pos_class_prob_sorted = model_A.feature_log_prob_[0,:].argsort()\n",
    "neg_class_prob_sorted = model_A.feature_log_prob_[1,:].argsort()\n",
    "\n",
    "\n",
    "print(\"Top negative features:\", ', '.join(tfidf_A.columns[neg_class_prob_sorted[:10]]))\n",
    "print()\n",
    "print(\"Top positive features:\", ', '.join(tfidf_A.columns[pos_class_prob_sorted[:10]]))\n",
    "#.sort(key=lambda tup: tup[1])"
   ]
  },
  {
   "cell_type": "code",
   "execution_count": 488,
   "metadata": {},
   "outputs": [
    {
     "name": "stdout",
     "output_type": "stream",
     "text": [
      "LeavePGroupsOut(n_groups=2)\n",
      "TRAIN: [4 5] TEST: [0 1 2 3]\n",
      "[[ 9 10]\n",
      " [11 12]] [[1 2]\n",
      " [3 4]\n",
      " [5 6]\n",
      " [7 8]] [1 2] [1 2 1 2]\n",
      "TRAIN: [2 3] TEST: [0 1 4 5]\n",
      "[[5 6]\n",
      " [7 8]] [[ 1  2]\n",
      " [ 3  4]\n",
      " [ 9 10]\n",
      " [11 12]] [1 2] [1 2 1 2]\n",
      "TRAIN: [0 1] TEST: [2 3 4 5]\n",
      "[[1 2]\n",
      " [3 4]] [[ 5  6]\n",
      " [ 7  8]\n",
      " [ 9 10]\n",
      " [11 12]] [1 2] [1 2 1 2]\n"
     ]
    }
   ],
   "source": [
    "import numpy as np\n",
    "\n",
    "from sklearn.model_selection import LeavePGroupsOut\n",
    "X = np.array([[1, 2], [3, 4], [5, 6], [7, 8], [9, 10], [11, 12]])\n",
    "y = np.array([1, 2, 1, 2, 1, 2])\n",
    "groups = np.array([1, 1, 2, 2, 3, 3])\n",
    "logo = LeavePGroupsOut(n_groups=len(np.unique(groups))-1)\n",
    "logo.get_n_splits(X, y, groups)\n",
    "\n",
    "logo.get_n_splits(groups=groups)  # 'groups' is always required\n",
    "\n",
    "print(logo)\n",
    "for train_index, test_index in logo.split(X, y, groups):\n",
    "    print(\"TRAIN:\", train_index, \"TEST:\", test_index)\n",
    "    X_train, X_test = X[train_index], X[test_index]\n",
    "    y_train, y_test = y[train_index], y[test_index]\n",
    "    print(X_train, X_test, y_train, y_test)"
   ]
  },
  {
   "cell_type": "code",
   "execution_count": null,
   "metadata": {},
   "outputs": [],
   "source": []
  }
 ],
 "metadata": {
  "kernelspec": {
   "display_name": "Python 3",
   "language": "python",
   "name": "python3"
  },
  "language_info": {
   "codemirror_mode": {
    "name": "ipython",
    "version": 3
   },
   "file_extension": ".py",
   "mimetype": "text/x-python",
   "name": "python",
   "nbconvert_exporter": "python",
   "pygments_lexer": "ipython3",
   "version": "3.7.6"
  }
 },
 "nbformat": 4,
 "nbformat_minor": 4
}
